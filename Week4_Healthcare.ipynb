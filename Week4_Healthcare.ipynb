{
  "nbformat": 4,
  "nbformat_minor": 0,
  "metadata": {
    "colab": {
      "name": "Week4_Healthcare.ipynb",
      "provenance": [],
      "include_colab_link": true
    },
    "kernelspec": {
      "name": "python3",
      "display_name": "Python 3"
    },
    "accelerator": "GPU"
  },
  "cells": [
    {
      "cell_type": "markdown",
      "metadata": {
        "id": "view-in-github",
        "colab_type": "text"
      },
      "source": [
        "<a href=\"https://colab.research.google.com/github/eghove/week4-health-2/blob/master/Week4_Healthcare.ipynb\" target=\"_parent\"><img src=\"https://colab.research.google.com/assets/colab-badge.svg\" alt=\"Open In Colab\"/></a>"
      ]
    },
    {
      "cell_type": "markdown",
      "metadata": {
        "id": "PeVfZ_ZDOQfu",
        "colab_type": "text"
      },
      "source": [
        "# Week 4 Homework for Siraj Raval's *Make Money With Machine Learning* Course"
      ]
    },
    {
      "cell_type": "markdown",
      "metadata": {
        "id": "JUJvea97OfwL",
        "colab_type": "text"
      },
      "source": [
        "## Objectives\n",
        "\n",
        "\n",
        "*   Retrain the 'inception v3' image classifier on the pneumonia dataset using TensorFlow and Keras\n",
        "  * More information on inception v3 may be found here: https://keras.io/applications/#inceptionv3\n",
        "  * The dataset in question may be found on Kaggle here: https://www.kaggle.com/paultimothymooney/chest-xray-pneumonia\n",
        "*   Create a Jupyter notebook that shows:\n",
        "  * The training process, and\n",
        "  * 2 examples of it making predictions on images from the testing dataset.\n",
        "* Use this repository from GitHub User anjanatiha for inspiration: https://github.com/anjanatiha/Pneumonia-Detection-from-Chest-X-Ray-Images-with-Deep-Learning\n",
        "\n"
      ]
    },
    {
      "cell_type": "markdown",
      "metadata": {
        "id": "ecCFHtO6QnY_",
        "colab_type": "text"
      },
      "source": [
        "## The Code"
      ]
    },
    {
      "cell_type": "markdown",
      "metadata": {
        "id": "6OsBhslJSc0v",
        "colab_type": "text"
      },
      "source": [
        "### Getting Access to Google Drive"
      ]
    },
    {
      "cell_type": "code",
      "metadata": {
        "id": "eF6G_HmgQbfE",
        "colab_type": "code",
        "colab": {
          "base_uri": "https://localhost:8080/",
          "height": 128
        },
        "outputId": "f243aa31-cd36-4f5b-f57e-524ceebaa6bc"
      },
      "source": [
        "\n",
        "from google.colab import drive\n",
        "drive.mount('/content/drive')"
      ],
      "execution_count": 1,
      "outputs": [
        {
          "output_type": "stream",
          "text": [
            "Go to this URL in a browser: https://accounts.google.com/o/oauth2/auth?client_id=947318989803-6bn6qk8qdgf4n4g3pfee6491hc0brc4i.apps.googleusercontent.com&redirect_uri=urn%3Aietf%3Awg%3Aoauth%3A2.0%3Aoob&scope=email%20https%3A%2F%2Fwww.googleapis.com%2Fauth%2Fdocs.test%20https%3A%2F%2Fwww.googleapis.com%2Fauth%2Fdrive%20https%3A%2F%2Fwww.googleapis.com%2Fauth%2Fdrive.photos.readonly%20https%3A%2F%2Fwww.googleapis.com%2Fauth%2Fpeopleapi.readonly&response_type=code\n",
            "\n",
            "Enter your authorization code:\n",
            "··········\n",
            "Mounted at /content/drive\n"
          ],
          "name": "stdout"
        }
      ]
    },
    {
      "cell_type": "markdown",
      "metadata": {
        "id": "1KiOLFQGTSQe",
        "colab_type": "text"
      },
      "source": [
        "### Importing Data"
      ]
    },
    {
      "cell_type": "code",
      "metadata": {
        "id": "T7Kao1oiOGjl",
        "colab_type": "code",
        "colab": {}
      },
      "source": [
        "# import some of the initial dependenies used\n",
        "import os\n",
        "import pandas as pd\n",
        "import random\n",
        "import numpy as np\n",
        "import matplotlib.pyplot as plt"
      ],
      "execution_count": 0,
      "outputs": []
    },
    {
      "cell_type": "code",
      "metadata": {
        "id": "ab0eqABFTwIh",
        "colab_type": "code",
        "colab": {
          "base_uri": "https://localhost:8080/",
          "height": 72
        },
        "outputId": "ed06cb08-cb8b-4981-beb3-28608f6f7a4e"
      },
      "source": [
        "# use OS to reach out to the Kaggle API to get the dataset\n",
        "\n",
        "os.environ['KAGGLE_USERNAME'] = \"\" \n",
        "os.environ['KAGGLE_KEY'] = \"\" \n",
        "!kaggle datasets download -d paultimothymooney/chest-xray-pneumonia  --force"
      ],
      "execution_count": 8,
      "outputs": [
        {
          "output_type": "stream",
          "text": [
            "Downloading chest-xray-pneumonia.zip to /content\n",
            "100% 1.15G/1.15G [00:06<00:00, 158MB/s]\n",
            "100% 1.15G/1.15G [00:06<00:00, 178MB/s]\n"
          ],
          "name": "stdout"
        }
      ]
    },
    {
      "cell_type": "code",
      "metadata": {
        "id": "VXZQhNH_XBtt",
        "colab_type": "code",
        "colab": {}
      },
      "source": [
        "# unzip the data\n",
        "\n",
        "# dependency to unzip the data\n",
        "from zipfile import ZipFile\n",
        "\n",
        "zf = ZipFile('chest-xray-pneumonia.zip', 'r')\n",
        "zf.extractall()\n",
        "zf.close()\n"
      ],
      "execution_count": 0,
      "outputs": []
    },
    {
      "cell_type": "code",
      "metadata": {
        "id": "JYnulxP9X_1d",
        "colab_type": "code",
        "colab": {
          "base_uri": "https://localhost:8080/",
          "height": 35
        },
        "outputId": "b8ca5f0d-4078-4da1-f30f-11fe6b2b261f"
      },
      "source": [
        "# See what's in our file directory\n",
        "ls"
      ],
      "execution_count": 15,
      "outputs": [
        {
          "output_type": "stream",
          "text": [
            "chest-xray-pneumonia.zip  chest_xray.zip  \u001b[0m\u001b[01;34mdrive\u001b[0m/  \u001b[01;34msample_data\u001b[0m/\n"
          ],
          "name": "stdout"
        }
      ]
    },
    {
      "cell_type": "code",
      "metadata": {
        "id": "QsR2AVUlYZIt",
        "colab_type": "code",
        "colab": {}
      },
      "source": [
        "# unzip again this time the chest_xray.zip\n",
        "zf = ZipFile('chest_xray.zip', 'r')\n",
        "zf.extractall()\n",
        "zf.close()"
      ],
      "execution_count": 0,
      "outputs": []
    },
    {
      "cell_type": "code",
      "metadata": {
        "id": "_N1C8R--YjVN",
        "colab_type": "code",
        "colab": {
          "base_uri": "https://localhost:8080/",
          "height": 54
        },
        "outputId": "3245d9fb-a5e5-4347-e9d8-b8650bd5f0c2"
      },
      "source": [
        "# See what's in our file directory, the chest_xray folder is what I care about\n",
        "ls"
      ],
      "execution_count": 17,
      "outputs": [
        {
          "output_type": "stream",
          "text": [
            "\u001b[0m\u001b[01;34mchest_xray\u001b[0m/               chest_xray.zip  \u001b[01;34m__MACOSX\u001b[0m/\n",
            "chest-xray-pneumonia.zip  \u001b[01;34mdrive\u001b[0m/          \u001b[01;34msample_data\u001b[0m/\n"
          ],
          "name": "stdout"
        }
      ]
    },
    {
      "cell_type": "code",
      "metadata": {
        "id": "ZLOnwPyvYwRr",
        "colab_type": "code",
        "colab": {
          "base_uri": "https://localhost:8080/",
          "height": 35
        },
        "outputId": "9899060d-8aaf-4801-a04d-d6814409fc4d"
      },
      "source": [
        "# see what's inside that chest_xray folder. Three folders containing test data, training data, and validation data\n",
        "ls chest_xray/"
      ],
      "execution_count": 18,
      "outputs": [
        {
          "output_type": "stream",
          "text": [
            "\u001b[0m\u001b[01;34mtest\u001b[0m/  \u001b[01;34mtrain\u001b[0m/  \u001b[01;34mval\u001b[0m/\n"
          ],
          "name": "stdout"
        }
      ]
    },
    {
      "cell_type": "code",
      "metadata": {
        "id": "hHhd1bPyacJ7",
        "colab_type": "code",
        "colab": {
          "base_uri": "https://localhost:8080/",
          "height": 72
        },
        "outputId": "8a9301b3-c66b-422c-dcf6-f5e3437afd41"
      },
      "source": [
        "# take a peek at what's inside each of these folders\n",
        "!ls chest_xray/test/\n",
        "!ls chest_xray/train/\n",
        "!ls chest_xray/val/"
      ],
      "execution_count": 22,
      "outputs": [
        {
          "output_type": "stream",
          "text": [
            "NORMAL\tPNEUMONIA\n",
            "NORMAL\tPNEUMONIA\n",
            "NORMAL\tPNEUMONIA\n"
          ],
          "name": "stdout"
        }
      ]
    },
    {
      "cell_type": "code",
      "metadata": {
        "id": "CJ81mXoZa3bS",
        "colab_type": "code",
        "colab": {}
      },
      "source": [
        "# let's set up the file paths where the data lives\n",
        "from pathlib import Path\n",
        "\n",
        "train_files = \"./chest_xray/train/\"\n",
        "test_files = \"./chest_xray/test/\"\n",
        "validation_files = \"./chest_xray/val/\"\n",
        "\n",
        "# the two classes we care about\n",
        "positive_class_folder_name = \"PNEUMONIA\"\n",
        "negative_class_folder_name = \"NORMAL\""
      ],
      "execution_count": 0,
      "outputs": []
    },
    {
      "cell_type": "markdown",
      "metadata": {
        "id": "8_ZHvdaYb7wn",
        "colab_type": "text"
      },
      "source": [
        "### Looking at Our Data"
      ]
    },
    {
      "cell_type": "code",
      "metadata": {
        "id": "3FHWNvlLb_mP",
        "colab_type": "code",
        "colab": {
          "base_uri": "https://localhost:8080/",
          "height": 54
        },
        "outputId": "61a01592-4695-4dfb-d6df-11be664635df"
      },
      "source": [
        "# training files\n",
        "\n",
        "# number of X-RAYS which show Pneumonia\n",
        "P = Path(train_files + positive_class_folder_name + \"/\")\n",
        "temp = list(P.glob(\"*.jpeg\"))\n",
        "print(\"Training-Pneumonia - %i \" % len(temp))\n",
        "\n",
        "# number of X-RAYS which are normal\n",
        "P = P = Path(train_files + negative_class_folder_name + \"/\")\n",
        "temp = list(P.glob(\"*.jpeg\"))\n",
        "print(\"Training-Normal - %i \" % len(temp))"
      ],
      "execution_count": 25,
      "outputs": [
        {
          "output_type": "stream",
          "text": [
            "Training-Pneumonia - 3875 \n",
            "Training-Normal - 1341 \n"
          ],
          "name": "stdout"
        }
      ]
    },
    {
      "cell_type": "code",
      "metadata": {
        "id": "2FpV4mzXcX95",
        "colab_type": "code",
        "colab": {
          "base_uri": "https://localhost:8080/",
          "height": 54
        },
        "outputId": "49b51ae9-f34e-40df-9b51-4a3ac67050ea"
      },
      "source": [
        "# validation files\n",
        "\n",
        "# testing files\n",
        "\n",
        "# number of X-RAYS which show Pneumonia\n",
        "P = Path(validation_files + positive_class_folder_name + \"/\")\n",
        "temp = list(P.glob(\"*.jpeg\"))\n",
        "print(\"Validation-Pneumonia - %i \" % len(temp))\n",
        "\n",
        "# number of X-RAYS which are normal\n",
        "P = P = Path(validation_files + negative_class_folder_name + \"/\")\n",
        "temp = list(P.glob(\"*.jpeg\"))\n",
        "print(\"Validation-Normal - %i \" % len(temp))"
      ],
      "execution_count": 27,
      "outputs": [
        {
          "output_type": "stream",
          "text": [
            "Validation-Pneumonia - 8 \n",
            "Validation-Normal - 8 \n"
          ],
          "name": "stdout"
        }
      ]
    },
    {
      "cell_type": "code",
      "metadata": {
        "id": "ENq1Wyd7cQi_",
        "colab_type": "code",
        "colab": {
          "base_uri": "https://localhost:8080/",
          "height": 54
        },
        "outputId": "ce9b816d-eb4a-495b-e22a-19cc4b88bbb9"
      },
      "source": [
        "# testing files\n",
        "\n",
        "# number of X-RAYS which show Pneumonia\n",
        "P = Path(test_files + positive_class_folder_name + \"/\")\n",
        "temp = list(P.glob(\"*.jpeg\"))\n",
        "print(\"Testing-Pneumonia - %i \" % len(temp))\n",
        "\n",
        "# number of X-RAYS which are normal\n",
        "P = P = Path(test_files + negative_class_folder_name + \"/\")\n",
        "temp = list(P.glob(\"*.jpeg\"))\n",
        "print(\"Testing-Normal - %i \" % len(temp))"
      ],
      "execution_count": 26,
      "outputs": [
        {
          "output_type": "stream",
          "text": [
            "Testing-Pneumonia - 390 \n",
            "Testing-Normal - 234 \n"
          ],
          "name": "stdout"
        }
      ]
    },
    {
      "cell_type": "markdown",
      "metadata": {
        "id": "fIk6K3EGg0WG",
        "colab_type": "text"
      },
      "source": [
        "### Preprocessing our Data"
      ]
    },
    {
      "cell_type": "code",
      "metadata": {
        "id": "mSHMXPcLg6lE",
        "colab_type": "code",
        "colab": {}
      },
      "source": [
        "# using ImageDataGenerator to skew up the training data\n",
        "from tensorflow.keras.preprocessing.image import ImageDataGenerator\n",
        "\n",
        "train_generator = ImageDataGenerator(featurewise_center = True,\n",
        "                                     shear_range = 0.2, #messes up the image a little so we don't train on perfect looking data\n",
        "                                     rescale = 1.0/255, #maximum value is 255, scale it all so our NN has a better time training\n",
        "                                     horizontal_flip = True, #also messes up our data little\n",
        "                                     validation_split = 0) #zeroed this out since we don't need to split out validation here since we already have some validation data\n",
        "\n",
        "test_generator = ImageDataGenerator(rescale = 1.0/255)"
      ],
      "execution_count": 0,
      "outputs": []
    },
    {
      "cell_type": "code",
      "metadata": {
        "id": "BDzQG0wRizGN",
        "colab_type": "code",
        "colab": {
          "base_uri": "https://localhost:8080/",
          "height": 72
        },
        "outputId": "dbd067d6-690b-4658-edc1-a0f6852ac80e"
      },
      "source": [
        "train_iterator = train_generator.flow_from_directory(train_files, \n",
        "                                                     target_size = (150, 150),\n",
        "                                                     classes = [positive_class_folder_name, negative_class_folder_name],\n",
        "                                                     batch_size = 256, \n",
        "                                                     shuffle = True, \n",
        "                                                     class_mode = \"binary\",\n",
        "                                                     subset = \"training\")\n",
        "\n",
        "## different from the example I'm reading through\n",
        "validation_iterator = test_generator.flow_from_directory(validation_files, \n",
        "                                                      target_size = (150, 150),\n",
        "                                                      classes = [positive_class_folder_name, negative_class_folder_name],\n",
        "                                                      batch_size = 128, \n",
        "                                                      shuffle = False, \n",
        "                                                      class_mode = \"binary\",)\n",
        "## different from the example I'm reading through\n",
        "\n",
        "test_iterator = test_generator.flow_from_directory(test_files, \n",
        "                                                   target_size = (150, 150), \n",
        "                                                   classes = [positive_class_folder_name, negative_class_folder_name],\n",
        "                                                   batch_size = 64, \n",
        "                                                   shuffle = False,\n",
        "                                                   class_mode = \"binary\")"
      ],
      "execution_count": 71,
      "outputs": [
        {
          "output_type": "stream",
          "text": [
            "Found 5216 images belonging to 2 classes.\n",
            "Found 16 images belonging to 2 classes.\n",
            "Found 624 images belonging to 2 classes.\n"
          ],
          "name": "stdout"
        }
      ]
    },
    {
      "cell_type": "code",
      "metadata": {
        "id": "xA1QBE3Pk0B-",
        "colab_type": "code",
        "colab": {
          "base_uri": "https://localhost:8080/",
          "height": 35
        },
        "outputId": "fc600a01-0890-473b-8f39-c6ecc777a1de"
      },
      "source": [
        "# count for class instances in training data\n",
        "\n",
        "class1 = sum(train_iterator.classes)\n",
        "class0 = len(train_iterator.classes) - class1\n",
        "\n",
        "print(\"Label 0 - %i, Label 1 - %i\" % (class0, class1))"
      ],
      "execution_count": 33,
      "outputs": [
        {
          "output_type": "stream",
          "text": [
            "Label 0 - 3875, Label 1 - 1341\n"
          ],
          "name": "stdout"
        }
      ]
    },
    {
      "cell_type": "code",
      "metadata": {
        "id": "IpcKIIbBlRgT",
        "colab_type": "code",
        "colab": {
          "base_uri": "https://localhost:8080/",
          "height": 35
        },
        "outputId": "3ff0bad1-e4e1-4173-deb8-0d1cf9e3ef8e"
      },
      "source": [
        "# count for class instances in validation data\n",
        "\n",
        "class1 = sum(validation_iterator.classes)\n",
        "class0 = len(validation_iterator.classes) - class1\n",
        "\n",
        "print(\"Label 0 - %i, Label 1 - %i\" % (class0, class1))"
      ],
      "execution_count": 34,
      "outputs": [
        {
          "output_type": "stream",
          "text": [
            "Label 0 - 8, Label 1 - 8\n"
          ],
          "name": "stdout"
        }
      ]
    },
    {
      "cell_type": "markdown",
      "metadata": {
        "id": "mJdaASpxmmt2",
        "colab_type": "text"
      },
      "source": [
        "\n",
        "*   0 = Normal\n",
        "*   1 = Pneumonia\n",
        "\n",
        "\n",
        "\n",
        "\n"
      ]
    },
    {
      "cell_type": "markdown",
      "metadata": {
        "id": "d_gHjQ6WnUT8",
        "colab_type": "text"
      },
      "source": [
        "### Transer Learning"
      ]
    },
    {
      "cell_type": "code",
      "metadata": {
        "id": "Nf6fVPKKoqss",
        "colab_type": "code",
        "colab": {}
      },
      "source": [
        "# pull in some dependencies needed here\n",
        "from tensorflow.keras.backend import clear_session\n",
        "from IPython.display import clear_output\n",
        "\n",
        "from tensorflow.keras.layers import Dropout, GlobalAveragePooling2D, BatchNormalization, Dense\n",
        "\n",
        "from tensorflow.keras.models import Sequential, load_model, save_model\n",
        "from tensorflow.keras.applications.inception_v3 import InceptionV3\n",
        "from tensorflow.keras.optimizers import RMSprop"
      ],
      "execution_count": 0,
      "outputs": []
    },
    {
      "cell_type": "code",
      "metadata": {
        "id": "tKi5Uc5mncAR",
        "colab_type": "code",
        "colab": {
          "base_uri": "https://localhost:8080/",
          "height": 563
        },
        "outputId": "1a369356-5858-4c64-d451-df8ad2f909fd"
      },
      "source": [
        "clear_session()\n",
        "\n",
        "base_model = InceptionV3(weights = \"imagenet\", include_top = False, input_shape = (150, 150, 3))\n",
        "clear_output()\n",
        "\n",
        "base_model.trainable = False\n",
        "# building the model\n",
        "myModel = Sequential([base_model,\n",
        "                      GlobalAveragePooling2D(),\n",
        "                      Dense(1024, activation = \"relu\"),\n",
        "                      Dropout(0.3),\n",
        "                      Dense(512, activation = \"relu\"),\n",
        "                      Dropout(0.3),\n",
        "                      Dense(256, activation = \"relu\"),\n",
        "                      Dropout(0.3),\n",
        "                      Dense(128, activation = \"relu\"),\n",
        "                      Dropout(0.3),\n",
        "                      Dense(1, activation = \"sigmoid\")])\n",
        "\n",
        "myModel.compile(RMSprop(), loss = \"binary_crossentropy\", metrics = [\"accuracy\"])\n",
        "myModel.summary()"
      ],
      "execution_count": 74,
      "outputs": [
        {
          "output_type": "stream",
          "text": [
            "Model: \"sequential\"\n",
            "_________________________________________________________________\n",
            "Layer (type)                 Output Shape              Param #   \n",
            "=================================================================\n",
            "inception_v3 (Model)         (None, 3, 3, 2048)        21802784  \n",
            "_________________________________________________________________\n",
            "global_average_pooling2d (Gl (None, 2048)              0         \n",
            "_________________________________________________________________\n",
            "dense (Dense)                (None, 1024)              2098176   \n",
            "_________________________________________________________________\n",
            "dropout (Dropout)            (None, 1024)              0         \n",
            "_________________________________________________________________\n",
            "dense_1 (Dense)              (None, 512)               524800    \n",
            "_________________________________________________________________\n",
            "dropout_1 (Dropout)          (None, 512)               0         \n",
            "_________________________________________________________________\n",
            "dense_2 (Dense)              (None, 256)               131328    \n",
            "_________________________________________________________________\n",
            "dropout_2 (Dropout)          (None, 256)               0         \n",
            "_________________________________________________________________\n",
            "dense_3 (Dense)              (None, 128)               32896     \n",
            "_________________________________________________________________\n",
            "dropout_3 (Dropout)          (None, 128)               0         \n",
            "_________________________________________________________________\n",
            "dense_4 (Dense)              (None, 1)                 129       \n",
            "=================================================================\n",
            "Total params: 24,590,113\n",
            "Trainable params: 2,787,329\n",
            "Non-trainable params: 21,802,784\n",
            "_________________________________________________________________\n"
          ],
          "name": "stdout"
        }
      ]
    },
    {
      "cell_type": "code",
      "metadata": {
        "id": "jFcpL-V9prUH",
        "colab_type": "code",
        "colab": {
          "base_uri": "https://localhost:8080/",
          "height": 983
        },
        "outputId": "127120d3-0527-4c2c-e214-5c48c1dbeea3"
      },
      "source": [
        "history = myModel.fit_generator(train_iterator, \n",
        "                                steps_per_epoch = len(train_iterator),\n",
        "                                epochs = 25,\n",
        "                                verbose = 1,\n",
        "                                workers = 20,\n",
        "                                validation_data = validation_iterator, \n",
        "                                validation_steps = len(validation_iterator),\n",
        "                                )"
      ],
      "execution_count": 76,
      "outputs": [
        {
          "output_type": "stream",
          "text": [
            "Epoch 1/25\n"
          ],
          "name": "stdout"
        },
        {
          "output_type": "stream",
          "text": [
            "/usr/local/lib/python3.6/dist-packages/keras_preprocessing/image/image_data_generator.py:716: UserWarning: This ImageDataGenerator specifies `featurewise_center`, but it hasn't been fit on any training data. Fit it first by calling `.fit(numpy_data)`.\n",
            "  warnings.warn('This ImageDataGenerator specifies '\n"
          ],
          "name": "stderr"
        },
        {
          "output_type": "stream",
          "text": [
            "21/21 [==============================] - 55s 3s/step - loss: 0.3292 - acc: 0.8696 - val_loss: 0.6322 - val_acc: 0.7500\n",
            "Epoch 2/25\n",
            "21/21 [==============================] - 53s 3s/step - loss: 0.3125 - acc: 0.8769 - val_loss: 1.3634 - val_acc: 0.6250\n",
            "Epoch 3/25\n",
            "21/21 [==============================] - 53s 3s/step - loss: 0.2963 - acc: 0.8758 - val_loss: 1.5996 - val_acc: 0.5625\n",
            "Epoch 4/25\n",
            "21/21 [==============================] - 53s 3s/step - loss: 0.2738 - acc: 0.8903 - val_loss: 1.1713 - val_acc: 0.6250\n",
            "Epoch 5/25\n",
            "21/21 [==============================] - 53s 3s/step - loss: 0.2499 - acc: 0.8947 - val_loss: 1.9726 - val_acc: 0.5000\n",
            "Epoch 6/25\n",
            "21/21 [==============================] - 52s 2s/step - loss: 0.2360 - acc: 0.8990 - val_loss: 0.6665 - val_acc: 0.6250\n",
            "Epoch 7/25\n",
            "21/21 [==============================] - 53s 3s/step - loss: 0.2355 - acc: 0.9020 - val_loss: 1.8032 - val_acc: 0.6250\n",
            "Epoch 8/25\n",
            "21/21 [==============================] - 53s 3s/step - loss: 0.2086 - acc: 0.9174 - val_loss: 0.7756 - val_acc: 0.5625\n",
            "Epoch 9/25\n",
            "21/21 [==============================] - 53s 3s/step - loss: 0.2165 - acc: 0.9097 - val_loss: 0.8061 - val_acc: 0.7500\n",
            "Epoch 10/25\n",
            "21/21 [==============================] - 53s 3s/step - loss: 0.2454 - acc: 0.8942 - val_loss: 0.6644 - val_acc: 0.7500\n",
            "Epoch 11/25\n",
            "21/21 [==============================] - 52s 2s/step - loss: 0.1818 - acc: 0.9285 - val_loss: 0.7549 - val_acc: 0.7500\n",
            "Epoch 12/25\n",
            "21/21 [==============================] - 54s 3s/step - loss: 0.1897 - acc: 0.9220 - val_loss: 1.4723 - val_acc: 0.6250\n",
            "Epoch 13/25\n",
            "21/21 [==============================] - 53s 3s/step - loss: 0.2176 - acc: 0.9097 - val_loss: 0.5787 - val_acc: 0.5625\n",
            "Epoch 14/25\n",
            "21/21 [==============================] - 53s 3s/step - loss: 0.1993 - acc: 0.9220 - val_loss: 1.8929 - val_acc: 0.5625\n",
            "Epoch 15/25\n",
            "21/21 [==============================] - 54s 3s/step - loss: 0.1758 - acc: 0.9262 - val_loss: 1.7063 - val_acc: 0.5625\n",
            "Epoch 16/25\n",
            "21/21 [==============================] - 52s 2s/step - loss: 0.1880 - acc: 0.9250 - val_loss: 0.9839 - val_acc: 0.8125\n",
            "Epoch 17/25\n",
            "21/21 [==============================] - 53s 3s/step - loss: 0.1775 - acc: 0.9287 - val_loss: 0.6730 - val_acc: 0.8125\n",
            "Epoch 18/25\n",
            "21/21 [==============================] - 53s 3s/step - loss: 0.1808 - acc: 0.9289 - val_loss: 4.1405 - val_acc: 0.5000\n",
            "Epoch 19/25\n",
            "21/21 [==============================] - 53s 3s/step - loss: 0.1438 - acc: 0.9390 - val_loss: 1.8893 - val_acc: 0.5625\n",
            "Epoch 20/25\n",
            "21/21 [==============================] - 52s 2s/step - loss: 0.2042 - acc: 0.9245 - val_loss: 0.8255 - val_acc: 0.5625\n",
            "Epoch 21/25\n",
            "21/21 [==============================] - 54s 3s/step - loss: 0.1801 - acc: 0.9312 - val_loss: 0.5603 - val_acc: 0.7500\n",
            "Epoch 22/25\n",
            "21/21 [==============================] - 53s 3s/step - loss: 0.1682 - acc: 0.9404 - val_loss: 0.5855 - val_acc: 0.6875\n",
            "Epoch 23/25\n",
            "21/21 [==============================] - 53s 3s/step - loss: 0.1495 - acc: 0.9390 - val_loss: 0.9266 - val_acc: 0.7500\n",
            "Epoch 24/25\n",
            "21/21 [==============================] - 53s 3s/step - loss: 0.1423 - acc: 0.9427 - val_loss: 1.0728 - val_acc: 0.6875\n",
            "Epoch 25/25\n",
            "21/21 [==============================] - 53s 3s/step - loss: 0.1662 - acc: 0.9312 - val_loss: 1.2078 - val_acc: 0.6875\n"
          ],
          "name": "stdout"
        }
      ]
    },
    {
      "cell_type": "code",
      "metadata": {
        "id": "yYTwm4_6sfT5",
        "colab_type": "code",
        "colab": {}
      },
      "source": [
        "# save the model\n",
        "save_model(myModel, \"./myModel_after_25_epochs\", overwrite = True, include_optimizer = True)"
      ],
      "execution_count": 0,
      "outputs": []
    },
    {
      "cell_type": "code",
      "metadata": {
        "id": "3MusgSCzst37",
        "colab_type": "code",
        "colab": {}
      },
      "source": [
        "# load the model\n",
        "myModel = load_model(\"./myModel_after_25_epochs\")"
      ],
      "execution_count": 0,
      "outputs": []
    },
    {
      "cell_type": "markdown",
      "metadata": {
        "id": "tBtIECT3s-hD",
        "colab_type": "text"
      },
      "source": [
        "### Evaluate the Model"
      ]
    },
    {
      "cell_type": "code",
      "metadata": {
        "id": "m2CkIadns8G_",
        "colab_type": "code",
        "colab": {
          "base_uri": "https://localhost:8080/",
          "height": 181
        },
        "outputId": "505c8728-2d6b-4fe2-e353-8d08cf739f08"
      },
      "source": [
        "from sklearn.metrics import classification_report\n",
        "\n",
        "\n",
        "yhat = myModel.predict_generator(test_iterator,\n",
        "                                 steps = len(test_iterator),\n",
        "                                 verbose = 0)  \n",
        "mask = yhat > 0.5\n",
        "yhat[mask] = 1\n",
        "yhat[~mask] = 0\n",
        "\n",
        "# got to evaluate the model against the test data set now\n",
        "y = test_iterator.classes\n",
        "\n",
        "target_names = [positive_class_folder_name, negative_class_folder_name]\n",
        "print(classification_report(y, yhat, target_names = target_names))"
      ],
      "execution_count": 80,
      "outputs": [
        {
          "output_type": "stream",
          "text": [
            "              precision    recall  f1-score   support\n",
            "\n",
            "   PNEUMONIA       0.77      0.80      0.79       390\n",
            "      NORMAL       0.65      0.60      0.62       234\n",
            "\n",
            "    accuracy                           0.73       624\n",
            "   macro avg       0.71      0.70      0.71       624\n",
            "weighted avg       0.72      0.73      0.73       624\n",
            "\n"
          ],
          "name": "stdout"
        }
      ]
    },
    {
      "cell_type": "code",
      "metadata": {
        "id": "A_accypitjR4",
        "colab_type": "code",
        "colab": {
          "base_uri": "https://localhost:8080/",
          "height": 729
        },
        "outputId": "afbbcd90-582e-4de3-fb31-e6679cce3394"
      },
      "source": [
        "# visualize some predictions, going to look at 10 at a time\n",
        "from random import randint\n",
        "import matplotlib.pyplot as plt\n",
        "import cv2\n",
        "\n",
        "%matplotlib inline\n",
        "\n",
        "label_dict = {0:\"PNEUMONIA\", 1:\"NORMAL\"}\n",
        "\n",
        "test_file_names = test_iterator.filenames\n",
        "n = len(test_file_names)\n",
        "\n",
        "plt.rcParams[\"figure.figsize\"] = 12, 10\n",
        "\n",
        "for i in range(10):\n",
        "    index = randint(0, n - 1)\n",
        "    file_name = test_files + test_file_names[index]\n",
        "    \n",
        "    image = cv2.imread(file_name, cv2.IMREAD_COLOR)\n",
        "    image = cv2.cvtColor(image, cv2.COLOR_BGR2RGB)\n",
        "    \n",
        "    ground_truth_label = label_dict[int(y[index])]\n",
        "    predicted_label = label_dict[int(yhat[index])]\n",
        "    \n",
        "    plt.subplot(10, 1, i + 1)\n",
        "    plt.axis(\"off\")\n",
        "    plt.imshow(image)\n",
        "    \n",
        "    title = \"Real Truth = \" + ground_truth_label + \", Predicted Label = \" + predicted_label\n",
        "    plt.title(title)\n",
        "\n",
        "plt.tight_layout()\n",
        "plt.show()"
      ],
      "execution_count": 82,
      "outputs": [
        {
          "output_type": "display_data",
          "data": {
            "image/png": "[encoded data removed]",
            "text/plain": [
              "<Figure size 864x720 with 10 Axes>"
            ]
          },
          "metadata": {
            "tags": []
          }
        }
      ]
    }
  ]
}